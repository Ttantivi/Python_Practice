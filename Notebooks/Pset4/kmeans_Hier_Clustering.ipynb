{
 "cells": [
  {
   "attachments": {},
   "cell_type": "markdown",
   "metadata": {},
   "source": [
    "# Kmeans + Hierarchical Clustering"
   ]
  },
  {
   "cell_type": "code",
   "execution_count": 24,
   "metadata": {},
   "outputs": [],
   "source": [
    "import pandas as pd\n",
    "import numpy as np\n",
    "import os\n",
    "\n",
    "import matplotlib.pyplot as plt\n",
    "from sklearn.preprocessing import StandardScaler\n",
    "from sklearn.cluster import KMeans\n",
    "from sklearn.metrics import adjusted_rand_score, normalized_mutual_info_score"
   ]
  },
  {
   "attachments": {},
   "cell_type": "markdown",
   "metadata": {},
   "source": [
    "### Loading in data"
   ]
  },
  {
   "cell_type": "code",
   "execution_count": 4,
   "metadata": {},
   "outputs": [
    {
     "data": {
      "text/html": [
       "<div>\n",
       "<style scoped>\n",
       "    .dataframe tbody tr th:only-of-type {\n",
       "        vertical-align: middle;\n",
       "    }\n",
       "\n",
       "    .dataframe tbody tr th {\n",
       "        vertical-align: top;\n",
       "    }\n",
       "\n",
       "    .dataframe thead th {\n",
       "        text-align: right;\n",
       "    }\n",
       "</style>\n",
       "<table border=\"1\" class=\"dataframe\">\n",
       "  <thead>\n",
       "    <tr style=\"text-align: right;\">\n",
       "      <th></th>\n",
       "      <th>1st_coordinate_abcissa</th>\n",
       "      <th>1st_coordinate_ordinate</th>\n",
       "      <th>2st_coordinate_abcissa</th>\n",
       "      <th>2st_coordinate_ordinate</th>\n",
       "      <th>3st_coordinate_abcissa</th>\n",
       "      <th>3st_coordinate_ordinate</th>\n",
       "      <th>4st_coordinate_abcissa</th>\n",
       "      <th>4st_coordinate_ordinate</th>\n",
       "      <th>5st_coordinate_abcissa</th>\n",
       "      <th>5st_coordinate_ordinate</th>\n",
       "      <th>...</th>\n",
       "      <th>41st_coordinate_ordinate</th>\n",
       "      <th>42st_coordinate_abcissa</th>\n",
       "      <th>42st_coordinate_ordinate</th>\n",
       "      <th>43st_coordinate_abcissa</th>\n",
       "      <th>43st_coordinate_ordinate</th>\n",
       "      <th>44st_coordinate_abcissa</th>\n",
       "      <th>44st_coordinate_ordinate</th>\n",
       "      <th>45st_coordinate_abcissa</th>\n",
       "      <th>45st_coordinate_ordinate</th>\n",
       "      <th>Class</th>\n",
       "    </tr>\n",
       "  </thead>\n",
       "  <tbody>\n",
       "    <tr>\n",
       "      <th>0</th>\n",
       "      <td>0.79691</td>\n",
       "      <td>0.38194</td>\n",
       "      <td>0.79691</td>\n",
       "      <td>0.37731</td>\n",
       "      <td>0.79884</td>\n",
       "      <td>0.37731</td>\n",
       "      <td>0.79497</td>\n",
       "      <td>0.37731</td>\n",
       "      <td>0.77563</td>\n",
       "      <td>0.35417</td>\n",
       "      <td>...</td>\n",
       "      <td>0.51389</td>\n",
       "      <td>0.39845</td>\n",
       "      <td>0.42593</td>\n",
       "      <td>0.47389</td>\n",
       "      <td>0.36111</td>\n",
       "      <td>0.55899</td>\n",
       "      <td>0.31250</td>\n",
       "      <td>0.63830</td>\n",
       "      <td>0.29398</td>\n",
       "      <td>1</td>\n",
       "    </tr>\n",
       "    <tr>\n",
       "      <th>1</th>\n",
       "      <td>0.67892</td>\n",
       "      <td>0.27315</td>\n",
       "      <td>0.68085</td>\n",
       "      <td>0.27315</td>\n",
       "      <td>0.68085</td>\n",
       "      <td>0.27315</td>\n",
       "      <td>0.68085</td>\n",
       "      <td>0.27315</td>\n",
       "      <td>0.67892</td>\n",
       "      <td>0.26852</td>\n",
       "      <td>...</td>\n",
       "      <td>0.57407</td>\n",
       "      <td>0.17795</td>\n",
       "      <td>0.63657</td>\n",
       "      <td>0.17215</td>\n",
       "      <td>0.67361</td>\n",
       "      <td>0.17021</td>\n",
       "      <td>0.69213</td>\n",
       "      <td>0.17215</td>\n",
       "      <td>0.69213</td>\n",
       "      <td>1</td>\n",
       "    </tr>\n",
       "    <tr>\n",
       "      <th>2</th>\n",
       "      <td>0.72147</td>\n",
       "      <td>0.23611</td>\n",
       "      <td>0.72340</td>\n",
       "      <td>0.23611</td>\n",
       "      <td>0.72340</td>\n",
       "      <td>0.23611</td>\n",
       "      <td>0.72340</td>\n",
       "      <td>0.23611</td>\n",
       "      <td>0.72340</td>\n",
       "      <td>0.23611</td>\n",
       "      <td>...</td>\n",
       "      <td>0.30556</td>\n",
       "      <td>0.59768</td>\n",
       "      <td>0.25926</td>\n",
       "      <td>0.67118</td>\n",
       "      <td>0.25231</td>\n",
       "      <td>0.73501</td>\n",
       "      <td>0.26620</td>\n",
       "      <td>0.78143</td>\n",
       "      <td>0.27778</td>\n",
       "      <td>1</td>\n",
       "    </tr>\n",
       "    <tr>\n",
       "      <th>3</th>\n",
       "      <td>0.56480</td>\n",
       "      <td>0.32407</td>\n",
       "      <td>0.56286</td>\n",
       "      <td>0.32407</td>\n",
       "      <td>0.56093</td>\n",
       "      <td>0.32407</td>\n",
       "      <td>0.55899</td>\n",
       "      <td>0.32407</td>\n",
       "      <td>0.55899</td>\n",
       "      <td>0.32407</td>\n",
       "      <td>...</td>\n",
       "      <td>0.49074</td>\n",
       "      <td>0.26306</td>\n",
       "      <td>0.42361</td>\n",
       "      <td>0.33269</td>\n",
       "      <td>0.34722</td>\n",
       "      <td>0.41006</td>\n",
       "      <td>0.28009</td>\n",
       "      <td>0.49130</td>\n",
       "      <td>0.24306</td>\n",
       "      <td>1</td>\n",
       "    </tr>\n",
       "    <tr>\n",
       "      <th>4</th>\n",
       "      <td>0.67118</td>\n",
       "      <td>0.38426</td>\n",
       "      <td>0.67118</td>\n",
       "      <td>0.38657</td>\n",
       "      <td>0.67311</td>\n",
       "      <td>0.38657</td>\n",
       "      <td>0.67311</td>\n",
       "      <td>0.38426</td>\n",
       "      <td>0.67311</td>\n",
       "      <td>0.37963</td>\n",
       "      <td>...</td>\n",
       "      <td>0.76389</td>\n",
       "      <td>0.44101</td>\n",
       "      <td>0.64120</td>\n",
       "      <td>0.45068</td>\n",
       "      <td>0.54167</td>\n",
       "      <td>0.47776</td>\n",
       "      <td>0.44213</td>\n",
       "      <td>0.53191</td>\n",
       "      <td>0.34259</td>\n",
       "      <td>1</td>\n",
       "    </tr>\n",
       "  </tbody>\n",
       "</table>\n",
       "<p>5 rows × 91 columns</p>\n",
       "</div>"
      ],
      "text/plain": [
       "   1st_coordinate_abcissa  1st_coordinate_ordinate  2st_coordinate_abcissa  \\\n",
       "0                 0.79691                  0.38194                 0.79691   \n",
       "1                 0.67892                  0.27315                 0.68085   \n",
       "2                 0.72147                  0.23611                 0.72340   \n",
       "3                 0.56480                  0.32407                 0.56286   \n",
       "4                 0.67118                  0.38426                 0.67118   \n",
       "\n",
       "   2st_coordinate_ordinate  3st_coordinate_abcissa  3st_coordinate_ordinate  \\\n",
       "0                  0.37731                 0.79884                  0.37731   \n",
       "1                  0.27315                 0.68085                  0.27315   \n",
       "2                  0.23611                 0.72340                  0.23611   \n",
       "3                  0.32407                 0.56093                  0.32407   \n",
       "4                  0.38657                 0.67311                  0.38657   \n",
       "\n",
       "   4st_coordinate_abcissa  4st_coordinate_ordinate  5st_coordinate_abcissa  \\\n",
       "0                 0.79497                  0.37731                 0.77563   \n",
       "1                 0.68085                  0.27315                 0.67892   \n",
       "2                 0.72340                  0.23611                 0.72340   \n",
       "3                 0.55899                  0.32407                 0.55899   \n",
       "4                 0.67311                  0.38426                 0.67311   \n",
       "\n",
       "   5st_coordinate_ordinate  ...  41st_coordinate_ordinate  \\\n",
       "0                  0.35417  ...                   0.51389   \n",
       "1                  0.26852  ...                   0.57407   \n",
       "2                  0.23611  ...                   0.30556   \n",
       "3                  0.32407  ...                   0.49074   \n",
       "4                  0.37963  ...                   0.76389   \n",
       "\n",
       "   42st_coordinate_abcissa  42st_coordinate_ordinate  43st_coordinate_abcissa  \\\n",
       "0                  0.39845                   0.42593                  0.47389   \n",
       "1                  0.17795                   0.63657                  0.17215   \n",
       "2                  0.59768                   0.25926                  0.67118   \n",
       "3                  0.26306                   0.42361                  0.33269   \n",
       "4                  0.44101                   0.64120                  0.45068   \n",
       "\n",
       "   43st_coordinate_ordinate  44st_coordinate_abcissa  \\\n",
       "0                   0.36111                  0.55899   \n",
       "1                   0.67361                  0.17021   \n",
       "2                   0.25231                  0.73501   \n",
       "3                   0.34722                  0.41006   \n",
       "4                   0.54167                  0.47776   \n",
       "\n",
       "   44st_coordinate_ordinate  45st_coordinate_abcissa  \\\n",
       "0                   0.31250                  0.63830   \n",
       "1                   0.69213                  0.17215   \n",
       "2                   0.26620                  0.78143   \n",
       "3                   0.28009                  0.49130   \n",
       "4                   0.44213                  0.53191   \n",
       "\n",
       "   45st_coordinate_ordinate  Class  \n",
       "0                   0.29398      1  \n",
       "1                   0.69213      1  \n",
       "2                   0.27778      1  \n",
       "3                   0.24306      1  \n",
       "4                   0.34259      1  \n",
       "\n",
       "[5 rows x 91 columns]"
      ]
     },
     "execution_count": 4,
     "metadata": {},
     "output_type": "execute_result"
    }
   ],
   "source": [
    "# loading in data\n",
    "file_path = os.path.join(\"data\", \"movement_libras.csv\")\n",
    "data_df = pd.read_csv(file_path)\n",
    "\n",
    "data_df.head()"
   ]
  },
  {
   "attachments": {},
   "cell_type": "markdown",
   "metadata": {},
   "source": [
    "### Preprocessing"
   ]
  },
  {
   "cell_type": "code",
   "execution_count": 5,
   "metadata": {},
   "outputs": [],
   "source": [
    "# Create an instance of StandardScaler\n",
    "scaler = StandardScaler()\n",
    "\n",
    "# extract labels and predictors\n",
    "labels = data_df['Class']\n",
    "predictors = data_df.drop('Class', axis = 1)\n",
    "\n",
    "# Fit the scaler to the data and transform the data\n",
    "scaled_preds = scaler.fit_transform(predictors)\n",
    "\n",
    "# turning scaled_data into dataframe\n",
    "scaled_data = pd.DataFrame(scaled_preds, columns=predictors.columns)\n",
    "\n",
    "# concat scaled data and labels\n",
    "scaled_df = pd.concat([scaled_data, labels], axis = 1)\n"
   ]
  },
  {
   "attachments": {},
   "cell_type": "markdown",
   "metadata": {},
   "source": [
    "### Kmeans"
   ]
  },
  {
   "cell_type": "code",
   "execution_count": 35,
   "metadata": {},
   "outputs": [],
   "source": [
    "ari = np.zeros(1000)\n",
    "nmi = np.zeros(1000)"
   ]
  },
  {
   "cell_type": "code",
   "execution_count": 36,
   "metadata": {},
   "outputs": [],
   "source": [
    "import warnings\n",
    "\n",
    "# Filter FutureWarnings\n",
    "warnings.filterwarnings('ignore', category=FutureWarning)\n",
    "\n",
    "# for loop from 1 to 1000\n",
    "for i in range(0, 1000):\n",
    "\n",
    "    # Initializing KMeans object\n",
    "    kmeans = KMeans(n_clusters = 15)\n",
    "\n",
    "    # Fit the KMeans model to the data\n",
    "    kmeans.fit(scaled_df.drop('Class', axis=1))\n",
    "\n",
    "    # Get the cluster labels for each data point\n",
    "    pred_labels = kmeans.labels_\n",
    "\n",
    "    # get the scores\n",
    "    ari[i] = adjusted_rand_score(labels, pred_labels)\n",
    "    nmi[i] = normalized_mutual_info_score(labels, pred_labels)"
   ]
  },
  {
   "cell_type": "code",
   "execution_count": 37,
   "metadata": {},
   "outputs": [
    {
     "name": "stdout",
     "output_type": "stream",
     "text": [
      "0.3110658343911655\n",
      "0.0130320400883251\n",
      "0.5937102018914463\n",
      "0.011266739630071666\n"
     ]
    }
   ],
   "source": [
    "# getting summary statistics for ari\n",
    "print(np.mean(ari))\n",
    "print(np.std(ari))\n",
    "\n",
    "# getting summary statistics for ari\n",
    "print(np.mean(nmi))\n",
    "print(np.std(nmi))"
   ]
  },
  {
   "cell_type": "code",
   "execution_count": 38,
   "metadata": {},
   "outputs": [
    {
     "data": {
      "image/png": "[encoded data removed]",
      "text/plain": [
       "<Figure size 640x480 with 1 Axes>"
      ]
     },
     "metadata": {},
     "output_type": "display_data"
    }
   ],
   "source": [
    "# ari histogram\n",
    "plt.hist(ari, bins=30, edgecolor='black')\n",
    "\n",
    "# Add labels and title\n",
    "plt.xlabel('Value')\n",
    "plt.ylabel('Frequency')\n",
    "plt.title('Histogram')\n",
    "\n",
    "# Display the plot\n",
    "plt.show()\n"
   ]
  },
  {
   "cell_type": "code",
   "execution_count": 39,
   "metadata": {},
   "outputs": [
    {
     "data": {
      "image/png": "[encoded data removed]",
      "text/plain": [
       "<Figure size 640x480 with 1 Axes>"
      ]
     },
     "metadata": {},
     "output_type": "display_data"
    }
   ],
   "source": [
    "# nmi histogram\n",
    "plt.hist(nmi, bins=30, edgecolor='black')\n",
    "\n",
    "# Add labels and title\n",
    "plt.xlabel('Value')\n",
    "plt.ylabel('Frequency')\n",
    "plt.title('Histogram')\n",
    "\n",
    "# Display the plot\n",
    "plt.show()\n"
   ]
  }
 ],
 "metadata": {
  "kernelspec": {
   "display_name": "base",
   "language": "python",
   "name": "python3"
  },
  "language_info": {
   "codemirror_mode": {
    "name": "ipython",
    "version": 3
   },
   "file_extension": ".py",
   "mimetype": "text/x-python",
   "name": "python",
   "nbconvert_exporter": "python",
   "pygments_lexer": "ipython3",
   "version": "3.9.12"
  },
  "orig_nbformat": 4
 },
 "nbformat": 4,
 "nbformat_minor": 2
}
